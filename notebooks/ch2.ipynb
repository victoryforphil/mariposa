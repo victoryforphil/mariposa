{
 "cells": [
  {
   "cell_type": "code",
   "execution_count": 1,
   "metadata": {},
   "outputs": [
    {
     "name": "stderr",
     "output_type": "stream",
     "text": [
      "\u001b[32m\u001b[1m    Updating\u001b[22m\u001b[39m registry at `~/.julia/registries/General.toml`\n",
      "\u001b[32m\u001b[1m   Resolving\u001b[22m\u001b[39m package versions...\n",
      "\u001b[32m\u001b[1m  No Changes\u001b[22m\u001b[39m to `~/.julia/environments/v1.11/Project.toml`\n",
      "\u001b[32m\u001b[1m  No Changes\u001b[22m\u001b[39m to `~/.julia/environments/v1.11/Manifest.toml`\n"
     ]
    }
   ],
   "source": [
    "using Pkg\n",
    "Pkg.add(\"Plots\")\n",
    "using Plots"
   ]
  },
  {
   "cell_type": "markdown",
   "metadata": {},
   "source": [
    "# Gaussian Distribution\n",
    "\n",
    "$$\n",
    "p(x) = (2\\pi\\sigma^2)^{-\\frac{1}{2}} \\exp{\\left(-\\frac{1}{2} \\frac{(x-\\mu)^2}{\\sigma^2}\\right)}\n",
    "$$\n",
    "\n",
    "Where:\n",
    "- $p(x)$ is the probability density function of the Gaussian distribution\n",
    "- $\\mu$ is the mean of the distribution\n",
    "- $\\sigma$ is the standard deviation of the distribution\n",
    "- $x$ is the value at which the probability density function is evaluated\n",
    "\n"
   ]
  },
  {
   "cell_type": "code",
   "execution_count": 13,
   "metadata": {},
   "outputs": [],
   "source": [
    "\"\"\"\n",
    "    univariate_gaussian_pdf(x, μ, σ)\n",
    "\n",
    "Compute the probability density function of a univariate Gaussian distribution.\n",
    "\n",
    "# Arguments\n",
    "- `x::Float64`: The value at which to evaluate the PDF.\n",
    "- `μ::Float64`: The mean of the Gaussian distribution. (mu)\n",
    "- `σ::Float64`: The standard deviation of the Gaussian distribution. (sigma)\n",
    "\n",
    "# Returns\n",
    "- `Float64`: The value of the PDF at `x`.\n",
    "\n",
    "# Example\n",
    "```julia\n",
    "x = -10:0.1:10\n",
    "y = univariate_gaussian_pdf.(x, 0, 3)\n",
    "plot(x, y, label=\"μ=0, σ=3\")\n",
    "```\n",
    "\"\"\"\n",
    "function univariate_gaussian_pdf(x, μ, σ)\n",
    "    π = 3.141592653589793\n",
    "    return (1 / sqrt( 2*π * (σ^2) )) * exp(-0.5 * ((x-μ)^2) / σ^2)\n",
    "end \n",
    "\n",
    "x = -10:0.1:10\n",
    "y = univariate_gaussian_pdf.(x, 0, 3)\n",
    "plot(x, y, label=\"μ=0, σ=3\")\n",
    "\n",
    "\n",
    "export univariate_gaussian_pdf\n"
   ]
  },
  {
   "cell_type": "markdown",
   "metadata": {},
   "source": [
    "# Multivariate Gaussian Distribution\n",
    "\n",
    "$$\n",
    "p(x) = det(2\\pi\\Sigma)^{-\\frac{1}{2}} \\exp{\\left(-\\frac{1}{2} (x-\\mu)^T \\Sigma^{-1}\n",
    "(x-\\mu)\\right)}\n",
    "$$\n",
    "\n",
    "Where:\n",
    "- $p(x)$ is the probability density function of the multivariate Gaussian distribution\n",
    "- $\\mu$ is the mean of the distribution\n",
    "- $\\Sigma$ is the covariance matrix of the distribution\n",
    "- $x$ is the value at which the probability density function is evaluated   \n",
    "$$"
   ]
  }
 ],
 "metadata": {
  "kernelspec": {
   "display_name": "Julia 1.11.4",
   "language": "julia",
   "name": "julia-1.11"
  },
  "language_info": {
   "file_extension": ".jl",
   "mimetype": "application/julia",
   "name": "julia",
   "version": "1.11.4"
  }
 },
 "nbformat": 4,
 "nbformat_minor": 2
}
